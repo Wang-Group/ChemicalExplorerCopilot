{
 "cells": [
  {
   "cell_type": "code",
   "execution_count": 1,
   "metadata": {},
   "outputs": [],
   "source": [
    "%load_ext autoreload\n",
    "%autoreload 2"
   ]
  },
  {
   "cell_type": "code",
   "execution_count": 2,
   "metadata": {},
   "outputs": [],
   "source": [
    "import numpy as np\n",
    "import pandas as pd\n",
    "from llmlab.check_one_round import prepare_one_batch_messages, send_messages, convert_finished_batch, validate_finished_batch\n",
    "import json\n",
    "from llmlab.converter.llm_link.NL_manager import NLManager"
   ]
  },
  {
   "cell_type": "code",
   "execution_count": 3,
   "metadata": {},
   "outputs": [],
   "source": [
    "data = pd.read_excel(r\"./exp-easy.xlsx\", sheet_name=None)"
   ]
  },
  {
   "cell_type": "code",
   "execution_count": 4,
   "metadata": {},
   "outputs": [],
   "source": [
    "# prepare the content to be sent \n",
    "NLs = list(data[\"Sheet1\"][\"experi_filter\"])\n",
    "notes = list(data[\"Sheet1\"][\"Notes\"])\n",
    "content = pd.DataFrame(\n",
    "    {\n",
    "        \"NL\": NLs,\n",
    "        \"Notes\": notes,\n",
    "        \"chat_history\": None,\n",
    "        \"function_info\": None,\n",
    "        \"total_errors\": None,\n",
    "        \"count\": np.zeros(len(NLs)),\n",
    "        \"pass\": np.zeros(len(NLs)).astype(\"bool\"),\n",
    "    }\n",
    ")\n",
    "content = content.applymap(lambda x: [] if x is None else x)"
   ]
  },
  {
   "cell_type": "code",
   "execution_count": 5,
   "metadata": {},
   "outputs": [
    {
     "name": "stdout",
     "output_type": "stream",
     "text": [
      "Current status: in_progress. Checking again in 10 seconds...\n",
      "Current status: in_progress. Checking again in 10 seconds...\n",
      "Current status: in_progress. Checking again in 10 seconds...\n",
      "Current status: in_progress. Checking again in 10 seconds...\n",
      "Batch process completed.\n",
      "####################################################################################################\n",
      "Function: AddSolid \n",
      "Property: mass \n",
      "before conversion:\n",
      "mass 53.0 mg\n",
      "after conversion:\n",
      "0.053 g\n",
      "####################################################################################################\n",
      "Function: AddSolid \n",
      "Property: mass \n",
      "before conversion:\n",
      "mass 34.0 mg\n",
      "after conversion:\n",
      "0.034 g\n",
      "####################################################################################################\n",
      "Function: AddLiquid \n",
      "Property: volume \n",
      "before conversion:\n",
      "volume 25.0 mL\n",
      "after conversion:\n",
      "25.0 mL\n",
      "####################################################################################################\n",
      "Function: AdjustTemperatureTo \n",
      "Property: temperature \n",
      "before conversion:\n",
      "temperature 120.0 ℃\n",
      "after conversion:\n",
      "120.0 °C\n",
      "####################################################################################################\n",
      "Function: AdjustTemperatureTo \n",
      "Property: stir_speed \n",
      "before conversion:\n",
      "stir_speed 300.0 rpm\n",
      "after conversion:\n",
      "300.0 rpm\n",
      "####################################################################################################\n",
      "Function: Wait \n",
      "Property: time \n",
      "before conversion:\n",
      "time 48.0 hours\n",
      "after conversion:\n",
      "172800.0 second\n",
      "####################################################################################################\n",
      "Function: AdjustTemperatureTo \n",
      "Property: temperature \n",
      "before conversion:\n",
      "temperature 20.0 ℃\n",
      "after conversion:\n",
      "20.0 °C\n",
      "####################################################################################################\n",
      "Function: Filter \n",
      "Property: temperature \n",
      "before conversion:\n",
      "temperature 20.0 ℃\n",
      "after conversion:\n",
      "20.0 °C\n",
      "####################################################################################################\n",
      "Function: Dry \n",
      "Property: temperature \n",
      "before conversion:\n",
      "temperature 20.0 ℃\n",
      "after conversion:\n",
      "20.0 °C\n"
     ]
    }
   ],
   "source": [
    "for iteration_num in range(3):\n",
    "    \n",
    "    # prepare the messages to be sent, update the content file, and save the jsonl to task_file_name\n",
    "    content, task_file_name = prepare_one_batch_messages(content, model = \"gpt-4-1106-preview\")\n",
    "    \n",
    "    # # actually upload the file to the openAI api\n",
    "    submitted_task_path, batch_job_id = send_messages(task_file_name)\n",
    "    # define the path to save the results \n",
    "    result_path = f\"./{batch_job_id}.jsonl\"\n",
    "    \n",
    "    # check if the job is finished or not \n",
    "    result_path, result = convert_finished_batch(batch_job_id, result_path)\n",
    "    \n",
    "    # perform check of the results\n",
    "    content = validate_finished_batch(content, result_path)\n",
    "    \n",
    "    # save the content for the current iteration\n",
    "    content.to_excel(f\"./iter_{iteration_num}.xlsx\")\n",
    "    \n",
    "    # if everything is right, we should stop the processing \n",
    "    if (content[\"pass\"].sum()) == len(content[\"pass\"]):\n",
    "        break"
   ]
  },
  {
   "cell_type": "code",
   "execution_count": null,
   "metadata": {},
   "outputs": [],
   "source": []
  }
 ],
 "metadata": {
  "kernelspec": {
   "display_name": "base",
   "language": "python",
   "name": "python3"
  },
  "language_info": {
   "codemirror_mode": {
    "name": "ipython",
    "version": 3
   },
   "file_extension": ".py",
   "mimetype": "text/x-python",
   "name": "python",
   "nbconvert_exporter": "python",
   "pygments_lexer": "ipython3",
   "version": "3.9.13"
  }
 },
 "nbformat": 4,
 "nbformat_minor": 2
}
