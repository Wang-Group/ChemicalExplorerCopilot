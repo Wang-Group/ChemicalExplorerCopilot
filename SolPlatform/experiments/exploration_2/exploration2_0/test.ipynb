{
 "cells": [
  {
   "cell_type": "code",
   "execution_count": 1,
   "metadata": {},
   "outputs": [
    {
     "name": "stdout",
     "output_type": "stream",
     "text": [
      "connecting\n",
      "connecting to MG400 successful!\n",
      "start enable...\n",
      "complete enable:)\n",
      "loop...\n"
     ]
    }
   ],
   "source": [
    "from solplatform import PlatformManager, LLMManager\n",
    "import logging\n",
    "import time\n",
    "import json\n",
    "from matplotlib import pyplot as plt\n",
    "import numpy as np\n",
    "logging.basicConfig(\n",
    "    filename=f\"./logs_20241031_test.txt\",\n",
    "    format=\"%(asctime)s %(name)-12s %(levelname)-8s %(message)s\",\n",
    "    level=logging.INFO,\n",
    "    datefmt=\"%m-%d-%y %H:%M:%S\",\n",
    ")\n",
    "logger = logging.getLogger()\n",
    "platform_config_path = \"C://Users//Admin//Documents//GitHub//platform_manager//SolPlatform//solplatform//configs//platform_config.yaml\"\n",
    "SS_mapping_path = \"C://Users//Admin//Documents//GitHub//platform_manager//SolPlatform//solplatform//configs//solid_station_mapping.json\"\n",
    "LS_mapping_path = \"C://Users//Admin//Documents//GitHub//platform_manager//SolPlatform//solplatform//configs//liquid_station_mapping.json\"\n",
    "FS_mapping_path = \"C://Users//Admin//Documents//GitHub//platform_manager//SolPlatform//solplatform//configs//filtration_station_mapping.json\"\n",
    "mail_config_path = \"C://Users//Admin//Documents//GitHub//platform_manager//SolPlatform//solplatform//configs//mail_config.yaml\"\n",
    "materials_path = r\"C:\\Users\\Admin\\Documents\\GitHub\\platform_manager\\SolPlatform\\test\\LLMTest\\exp_12\\materials_output_20241028171227164716_template_0.json\"\n",
    "json_path = r\"C:\\Users\\Admin\\Documents\\GitHub\\platform_manager\\SolPlatform\\test\\LLMTest\\exp_12\\output_20241028171227164716_template_0.json\"\n",
    "manager = LLMManager(\n",
    "    platform_config_path,\n",
    "    SS_mapping_path,\n",
    "    LS_mapping_path,\n",
    "    FS_mapping_path, \n",
    "    materials_path, \n",
    "    json_path, \n",
    "    mail_config_path, \n",
    "    logger=logger,\n",
    "    initialize_operation=True\n",
    ")\n",
    "\n",
    "# manager.uv_vis_setup.update_integration_time(2500)\n",
    "\n",
    "# manager = NLManager(materials_path, json_path, logger)"
   ]
  },
  {
   "cell_type": "code",
   "execution_count": null,
   "metadata": {},
   "outputs": [],
   "source": [
    "manager.check_all_procedures()\n",
    "manager.mix = True"
   ]
  },
  {
   "cell_type": "code",
   "execution_count": null,
   "metadata": {},
   "outputs": [],
   "source": [
    "manager.perform_exp()"
   ]
  }
 ],
 "metadata": {
  "kernelspec": {
   "display_name": "base",
   "language": "python",
   "name": "python3"
  },
  "language_info": {
   "codemirror_mode": {
    "name": "ipython",
    "version": 3
   },
   "file_extension": ".py",
   "mimetype": "text/x-python",
   "name": "python",
   "nbconvert_exporter": "python",
   "pygments_lexer": "ipython3",
   "version": "3.11.5"
  }
 },
 "nbformat": 4,
 "nbformat_minor": 2
}
